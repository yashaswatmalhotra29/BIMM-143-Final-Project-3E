{
 "cells": [
  {
   "cell_type": "markdown",
   "metadata": {},
   "source": [
    "# Project 3 - TLR 2 vs TLR 4 & TLR 6: Who is the imposter"
   ]
  },
  {
   "cell_type": "markdown",
   "metadata": {},
   "source": [
    "### Intoduction\n",
    "\n",
    "Toll-like receptors (TLRs) are a class of proteins that play a key role in the innate immune system. They are single-pass membrane-spanning receptors usually expressed on sentinel cells such as macrophages and dendritic cells, that recognize structurally conserved molecules derived from microbes. Once these microbes have breached physical barriers such as the skin or intestinal tract mucosa, they are recognized by TLRs, which activate immune cell responses. The TLRs include TLR1, TLR2, TLR3, TLR4, TLR5, TLR6, TLR7, TLR8, TLR9, TLR10, TLR11, TLR12, and TLR13, though the last three are not found in humans. All three of the TLRs we will focus on in this project, ie TLR2, TLR4, and TLR6 are located on the cell membrane and posess three distinct domains - The extracellular domain, The transmembrane domain, and the intracellular domain.\n",
    "\n",
    "The ability of the immune system to recognize molecules that are broadly shared by pathogens is, in part, due to the presence of immune receptors like toll-like receptors.\n",
    "\n",
    "The binding of ligands - either in the form of adjuvant used in vaccinations or in the form of invasive moieties during times of natural infection - to the TLR marks the key molecular events that ultimately lead to innate immune responses and the development of antigen-specific acquired immunity.\n",
    "\n",
    "Upon activation, TLRs recruit adaptor proteins (proteins that mediate other protein-protein interactions) within the cytosol of the immune cell in order to propagate the antigen-induced signal transduction pathway. These recruited proteins are then responsible for the subsequent activation of other downstream proteins and ultimately the transcription of cytokines.\n",
    "\n",
    "TLR2 is a major mammalian TLR that can recognize lipoproteins derived from bacteria, viruses, fungi, and parasites. \n",
    "\n",
    "TLR4 has been long recognized as the sensing receptor for gram-negative lipopolysaccharide (LPS). \n",
    "\n",
    "TLR 6 recognizes ligands such multiple diacyl lipopeptides derived from gram-positive bacteria and mycoplasma and several fungal cell wall saccharides. TLR 6 dimerizes with TLR2 for activation of downstream signalling"
   ]
  },
  {
   "cell_type": "markdown",
   "metadata": {},
   "source": [
    "### Scientific Question\n",
    "How similar are pathogen receptors from receptors that recognize different pathogenic ligands and from receptors they evolved from. I want to study this especially in relation to human TLR 2 in comparison to human TLR 4 and human TLR 6. I selected these genes because TLR2, TLR4, and TLR6 recognize motifs from similar bacteria. TLR4 evolved from TLR2 whereas TLR 6 dimerizes with TLR 2 and might share similar regions like transmembrane domains. Since TLR2 has different yet direct relationships with TLR4 and TLR6, it will be interesting to study the genetic similarities between them"
   ]
  },
  {
   "cell_type": "markdown",
   "metadata": {},
   "source": [
    "### Hypothesis\n",
    "Given the relationship that exists between TLR2 and TLR 4 as well as TLR2 and TLR6, I hypothesize that TLR2 and TLR4 share a higher similarity in their extracellular domain that is responsible for binding ligands as compared to TLR 2 and TLR 6 whereas TLR 2 and TLR 6 share a higher similarity in their transmembrane and intracellular domain as these regions interact via dimerization to activate downstream signaling. "
   ]
  },
  {
   "cell_type": "markdown",
   "metadata": {},
   "source": [
    "### Methods"
   ]
  },
  {
   "cell_type": "markdown",
   "metadata": {},
   "source": [
    "To study the relationship between TLR2, TLR4, and TLR 6, it is important to divide each gene in its 3 structural domains - The extracellular domain, the transmembrane domain, and the cytoplasmic domain. In this project, we will be studying the genetic similarities between these three regions across TLR2, TLR4 and TLR6. To do so, we will be using pairwise sequence alignment. The fasta files for the protein sequences were obtained from uniprot\n",
    "\n",
    "We will then be representing the data using grouped parplots and drawing conclusions on the same.\n",
    "\n",
    "For the increased understanding of the viewer, we will also be representing the protein structures of the TLR2 and TLR4 protein and explaining the protein motifs present. The ascension numbers for the proteins were obtained from rcsb.org."
   ]
  },
  {
   "cell_type": "markdown",
   "metadata": {},
   "source": [
    "### Importing "
   ]
  },
  {
   "cell_type": "code",
   "execution_count": 24,
   "metadata": {},
   "outputs": [
    {
     "name": "stdout",
     "output_type": "stream",
     "text": [
      "Requirement already satisfied: nglview in c:\\users\\yashaswat\\anaconda3\\lib\\site-packages (2.7.7)\n",
      "Requirement already satisfied: numpy in c:\\users\\yashaswat\\anaconda3\\lib\\site-packages (from nglview) (1.16.2)\n",
      "Requirement already satisfied: ipywidgets>=7 in c:\\users\\yashaswat\\anaconda3\\lib\\site-packages (from nglview) (7.4.2)\n",
      "Requirement already satisfied: ipykernel>=4.5.1 in c:\\users\\yashaswat\\anaconda3\\lib\\site-packages (from ipywidgets>=7->nglview) (5.1.0)\n",
      "Requirement already satisfied: widgetsnbextension~=3.4.0 in c:\\users\\yashaswat\\anaconda3\\lib\\site-packages (from ipywidgets>=7->nglview) (3.4.2)\n",
      "Requirement already satisfied: nbformat>=4.2.0 in c:\\users\\yashaswat\\anaconda3\\lib\\site-packages (from ipywidgets>=7->nglview) (4.4.0)\n",
      "Requirement already satisfied: ipython>=4.0.0; python_version >= \"3.3\" in c:\\users\\yashaswat\\anaconda3\\lib\\site-packages (from ipywidgets>=7->nglview) (7.4.0)\n",
      "Requirement already satisfied: traitlets>=4.3.1 in c:\\users\\yashaswat\\anaconda3\\lib\\site-packages (from ipywidgets>=7->nglview) (4.3.2)\n",
      "Requirement already satisfied: jupyter-client in c:\\users\\yashaswat\\anaconda3\\lib\\site-packages (from ipykernel>=4.5.1->ipywidgets>=7->nglview) (5.2.4)\n",
      "Requirement already satisfied: tornado>=4.2 in c:\\users\\yashaswat\\anaconda3\\lib\\site-packages (from ipykernel>=4.5.1->ipywidgets>=7->nglview) (6.0.2)\n",
      "Requirement already satisfied: notebook>=4.4.1 in c:\\users\\yashaswat\\anaconda3\\lib\\site-packages (from widgetsnbextension~=3.4.0->ipywidgets>=7->nglview) (5.7.8)\n",
      "Requirement already satisfied: ipython-genutils in c:\\users\\yashaswat\\anaconda3\\lib\\site-packages (from nbformat>=4.2.0->ipywidgets>=7->nglview) (0.2.0)\n",
      "Requirement already satisfied: jsonschema!=2.5.0,>=2.4 in c:\\users\\yashaswat\\anaconda3\\lib\\site-packages (from nbformat>=4.2.0->ipywidgets>=7->nglview) (3.0.1)\n",
      "Requirement already satisfied: jupyter-core in c:\\users\\yashaswat\\anaconda3\\lib\\site-packages (from nbformat>=4.2.0->ipywidgets>=7->nglview) (4.4.0)\n",
      "Requirement already satisfied: decorator in c:\\users\\yashaswat\\anaconda3\\lib\\site-packages (from ipython>=4.0.0; python_version >= \"3.3\"->ipywidgets>=7->nglview) (4.4.0)\n",
      "Requirement already satisfied: prompt-toolkit<2.1.0,>=2.0.0 in c:\\users\\yashaswat\\anaconda3\\lib\\site-packages (from ipython>=4.0.0; python_version >= \"3.3\"->ipywidgets>=7->nglview) (2.0.9)\n",
      "Requirement already satisfied: setuptools>=18.5 in c:\\users\\yashaswat\\anaconda3\\lib\\site-packages (from ipython>=4.0.0; python_version >= \"3.3\"->ipywidgets>=7->nglview) (40.8.0)\n",
      "Requirement already satisfied: backcall in c:\\users\\yashaswat\\anaconda3\\lib\\site-packages (from ipython>=4.0.0; python_version >= \"3.3\"->ipywidgets>=7->nglview) (0.1.0)\n",
      "Requirement already satisfied: pygments in c:\\users\\yashaswat\\anaconda3\\lib\\site-packages (from ipython>=4.0.0; python_version >= \"3.3\"->ipywidgets>=7->nglview) (2.3.1)\n",
      "Requirement already satisfied: colorama; sys_platform == \"win32\" in c:\\users\\yashaswat\\anaconda3\\lib\\site-packages (from ipython>=4.0.0; python_version >= \"3.3\"->ipywidgets>=7->nglview) (0.4.1)\n",
      "Requirement already satisfied: pickleshare in c:\\users\\yashaswat\\anaconda3\\lib\\site-packages (from ipython>=4.0.0; python_version >= \"3.3\"->ipywidgets>=7->nglview) (0.7.5)\n",
      "Requirement already satisfied: jedi>=0.10 in c:\\users\\yashaswat\\anaconda3\\lib\\site-packages (from ipython>=4.0.0; python_version >= \"3.3\"->ipywidgets>=7->nglview) (0.13.3)\n",
      "Requirement already satisfied: six in c:\\users\\yashaswat\\anaconda3\\lib\\site-packages (from traitlets>=4.3.1->ipywidgets>=7->nglview) (1.12.0)\n",
      "Requirement already satisfied: python-dateutil>=2.1 in c:\\users\\yashaswat\\anaconda3\\lib\\site-packages (from jupyter-client->ipykernel>=4.5.1->ipywidgets>=7->nglview) (2.8.0)\n",
      "Requirement already satisfied: pyzmq>=13 in c:\\users\\yashaswat\\anaconda3\\lib\\site-packages (from jupyter-client->ipykernel>=4.5.1->ipywidgets>=7->nglview) (18.0.0)\n",
      "Requirement already satisfied: nbconvert in c:\\users\\yashaswat\\anaconda3\\lib\\site-packages (from notebook>=4.4.1->widgetsnbextension~=3.4.0->ipywidgets>=7->nglview) (5.4.1)\n",
      "Requirement already satisfied: terminado>=0.8.1 in c:\\users\\yashaswat\\anaconda3\\lib\\site-packages (from notebook>=4.4.1->widgetsnbextension~=3.4.0->ipywidgets>=7->nglview) (0.8.1)\n",
      "Requirement already satisfied: Send2Trash in c:\\users\\yashaswat\\anaconda3\\lib\\site-packages (from notebook>=4.4.1->widgetsnbextension~=3.4.0->ipywidgets>=7->nglview) (1.5.0)\n",
      "Requirement already satisfied: jinja2 in c:\\users\\yashaswat\\anaconda3\\lib\\site-packages (from notebook>=4.4.1->widgetsnbextension~=3.4.0->ipywidgets>=7->nglview) (2.10)\n",
      "Requirement already satisfied: prometheus-client in c:\\users\\yashaswat\\anaconda3\\lib\\site-packages (from notebook>=4.4.1->widgetsnbextension~=3.4.0->ipywidgets>=7->nglview) (0.6.0)\n",
      "Requirement already satisfied: attrs>=17.4.0 in c:\\users\\yashaswat\\anaconda3\\lib\\site-packages (from jsonschema!=2.5.0,>=2.4->nbformat>=4.2.0->ipywidgets>=7->nglview) (19.1.0)\n",
      "Requirement already satisfied: pyrsistent>=0.14.0 in c:\\users\\yashaswat\\anaconda3\\lib\\site-packages (from jsonschema!=2.5.0,>=2.4->nbformat>=4.2.0->ipywidgets>=7->nglview) (0.14.11)\n",
      "Requirement already satisfied: wcwidth in c:\\users\\yashaswat\\anaconda3\\lib\\site-packages (from prompt-toolkit<2.1.0,>=2.0.0->ipython>=4.0.0; python_version >= \"3.3\"->ipywidgets>=7->nglview) (0.1.7)\n",
      "Requirement already satisfied: parso>=0.3.0 in c:\\users\\yashaswat\\anaconda3\\lib\\site-packages (from jedi>=0.10->ipython>=4.0.0; python_version >= \"3.3\"->ipywidgets>=7->nglview) (0.3.4)\n",
      "Requirement already satisfied: mistune>=0.8.1 in c:\\users\\yashaswat\\anaconda3\\lib\\site-packages (from nbconvert->notebook>=4.4.1->widgetsnbextension~=3.4.0->ipywidgets>=7->nglview) (0.8.4)\n",
      "Requirement already satisfied: entrypoints>=0.2.2 in c:\\users\\yashaswat\\anaconda3\\lib\\site-packages (from nbconvert->notebook>=4.4.1->widgetsnbextension~=3.4.0->ipywidgets>=7->nglview) (0.3)\n",
      "Requirement already satisfied: bleach in c:\\users\\yashaswat\\anaconda3\\lib\\site-packages (from nbconvert->notebook>=4.4.1->widgetsnbextension~=3.4.0->ipywidgets>=7->nglview) (3.1.0)\n",
      "Requirement already satisfied: pandocfilters>=1.4.1 in c:\\users\\yashaswat\\anaconda3\\lib\\site-packages (from nbconvert->notebook>=4.4.1->widgetsnbextension~=3.4.0->ipywidgets>=7->nglview) (1.4.2)\n",
      "Requirement already satisfied: testpath in c:\\users\\yashaswat\\anaconda3\\lib\\site-packages (from nbconvert->notebook>=4.4.1->widgetsnbextension~=3.4.0->ipywidgets>=7->nglview) (0.4.2)\n",
      "Requirement already satisfied: defusedxml in c:\\users\\yashaswat\\anaconda3\\lib\\site-packages (from nbconvert->notebook>=4.4.1->widgetsnbextension~=3.4.0->ipywidgets>=7->nglview) (0.5.0)\n",
      "Requirement already satisfied: MarkupSafe>=0.23 in c:\\users\\yashaswat\\anaconda3\\lib\\site-packages (from jinja2->notebook>=4.4.1->widgetsnbextension~=3.4.0->ipywidgets>=7->nglview) (1.1.1)\n",
      "Requirement already satisfied: webencodings in c:\\users\\yashaswat\\anaconda3\\lib\\site-packages (from bleach->nbconvert->notebook>=4.4.1->widgetsnbextension~=3.4.0->ipywidgets>=7->nglview) (0.5.1)\n"
     ]
    }
   ],
   "source": [
    "from Bio import pairwise2\n",
    "from Bio.pairwise2 import format_alignment\n",
    "from Bio import SeqIO\n",
    "import matplotlib.pyplot as plot\n",
    "\n",
    "import nglview\n",
    "import numpy as np\n"
   ]
  },
  {
   "cell_type": "markdown",
   "metadata": {},
   "source": [
    "### Defining the packages and explaining how they have been used\n",
    "\n",
    "Bio - Biopython is a set of freely available tools for biological computation written in Python. It is a distributed collaborative effort to develop Python libraries and applications which address the needs of current and future work in bioinformatics. Here, we will use Biopython to conduct a pairwise sequence alignment using pairwise2. format_alignment is a function within Bio.pairwise which gives a nice printout. Bio.SeqIO provides a simple uniform interface to input and output assorted sequence file formats. Here it will be used to read in fasta files\n",
    "\n",
    "numpy - NumPy is one of the most widely used python libraries in data science. It provides high-performance, easy to use structures and data analysis tools. It offers comprehensive mathematical functions, random number generators, linear algebra routines, Fourier transforms, and more. In this project, we will be using Numpy to create a data array of our sequence alignments score to be graphed \n",
    "\n",
    "matplotlib - Matplotlib is a comprehensive library for creating static, animated, and interactive visualizations in Python. We use matplotlib in this project to vizualize the differences in the pairwise sequence alignment score\n",
    "\n",
    "nglview - NGL Viewer is a collection of tools for web-based molecular graphics. Here we will use nglview to display the protein structure of TLR2 and TLR4"
   ]
  },
  {
   "cell_type": "markdown",
   "metadata": {},
   "source": [
    "### Explaination of Bioinformatics method used "
   ]
  },
  {
   "cell_type": "markdown",
   "metadata": {},
   "source": [
    "#### Vizualizing the protein \n",
    "The TLR2, TLR4 and TLR6 proteins will be vizualized in 3D utilized using nglview. This method takes in as its input a string containing the protein database id for our gene of interest. As its output, it gives a color coded protein with visual surface protein modifications."
   ]
  },
  {
   "cell_type": "markdown",
   "metadata": {},
   "source": [
    "#### Pairwise Sequence Alignment "
   ]
  },
  {
   "cell_type": "markdown",
   "metadata": {},
   "source": [
    "Pairwise Sequence Alignment is used to identify regions of similarity that may indicate functional, structural and/or evolutionary relationships between two biological sequences (here a potein sequence). In this project we will be using Biopython to perform pairwise sequence alignments on our different regions of interest. The code takes as its input a fasta file containg the protein sequence of iterest. The output is the print display of the sequence alignment as well as an alignmnet score. The higher the alignment score between 2 genes, the greater the structural and functional similarity.\n",
    "\n",
    "The alignment will be performed using the global alignments parameter and the scoring is as follows: Identical characters are given 2 points, 1 point is deducted for each non-identical character. Gaps are not penalized."
   ]
  },
  {
   "cell_type": "markdown",
   "metadata": {},
   "source": [
    "### Vizualizing the TLR2 and TLR4 receptor protein's structure"
   ]
  },
  {
   "cell_type": "markdown",
   "metadata": {},
   "source": [
    "#### TLR2"
   ]
  },
  {
   "cell_type": "code",
   "execution_count": 26,
   "metadata": {},
   "outputs": [
    {
     "data": {
      "application/vnd.jupyter.widget-view+json": {
       "model_id": "f192a4f3766c4ec8b1653790087faada",
       "version_major": 2,
       "version_minor": 0
      },
      "text/plain": [
       "NGLWidget()"
      ]
     },
     "metadata": {},
     "output_type": "display_data"
    }
   ],
   "source": [
    "view_TLR2 = nglview.show_pdbid('6NIG') \n",
    "#assigning the TLR2 protein structure to view_TLR2 using TLR2's protein ID\n",
    "view_TLR2.add_cartoon(selection=\"protein\")\n",
    "view_TLR2.add_surface(selection=\"protein\", opacity=0.1)\n",
    "view_TLR2.render_image()\n",
    "#adding the correct color scheme to view_TLR2 and creating protein textures on it\n",
    "view_TLR2\n"
   ]
  },
  {
   "cell_type": "markdown",
   "metadata": {},
   "source": [
    "Among the various TLRs, TLR2 has a special place due to its ability to sense the widest repertoire of PAMPs owing to its heterodimerization with either TLR1 or TLR6, broadening its ligand diversity against pathogens. \n",
    "In the protein structure above, the protein regions shaped like hooks and colored red and orange are the two arms of the dimerized receptor, one from TLR2(red) and one from TLR1/6. The lower end of the arms contains the C-terminus whereas the curved upper end contains the N-terminus."
   ]
  },
  {
   "cell_type": "markdown",
   "metadata": {},
   "source": [
    "#### TLR 4"
   ]
  },
  {
   "cell_type": "code",
   "execution_count": 3,
   "metadata": {},
   "outputs": [
    {
     "data": {
      "application/vnd.jupyter.widget-view+json": {
       "model_id": "35ae02a7bb834caf9121f444246eb8e0",
       "version_major": 2,
       "version_minor": 0
      },
      "text/plain": [
       "NGLWidget()"
      ]
     },
     "metadata": {},
     "output_type": "display_data"
    }
   ],
   "source": [
    "view_TLR4 = nglview.show_pdbid('4G8A')  \n",
    "#assigning the TLR4 protein structure to view_TLR4 using TLR4's protein ID\n",
    "view_TLR4.add_cartoon(selection=\"protein\")\n",
    "view_TLR4.add_surface(selection=\"protein\", opacity=0.1)\n",
    "#adding the correct color scheme to view_TLR4 and creating protein textures on it\n",
    "view_TLR4"
   ]
  },
  {
   "cell_type": "markdown",
   "metadata": {},
   "source": [
    "TLR4 is a type I transmembrane protein composed of 22 extracellular leucine-rich repeats (LRRs), a transmembrane domain, and the Toll/IL-1 receptor domain that is essential for TLR signaling and conserved among members of the Toll receptor family. TLR4 alone does not directly bind LPS and requires the coreceptor MD-2. MD-2 is associated with the extracellular domain of TLR4 and is indispensable for LPS recognition\n",
    "\n",
    "Like TLR2, the protein regions shaped like hooks and colored red and orange are the two arms of the TLR4 receptor. The lower end of the arm contains the C-terminus whereas the curved upper end contains the N-terminus. The light yellow and light orange protein regions between the two curved arms represent the MD-2 co-receptors. This curved region inside the arm contains the ligand binding domain"
   ]
  },
  {
   "cell_type": "markdown",
   "metadata": {},
   "source": [
    "#### Reading in the fasta files for the extracellular domain of TLR 2, TLR 4 and TLR 6.\n",
    "This region contains the ligand binding region for all 3 TLRs. Apon ligand recognition, The TLRs activate downstream signalling.\n",
    "As previously mentioned, we hypothesized that for this region, TLR2 will be more similar to TLR4 as compared to TLR6"
   ]
  },
  {
   "cell_type": "code",
   "execution_count": 4,
   "metadata": {},
   "outputs": [],
   "source": [
    "TLR2EC = SeqIO.read('TLR2EC.fasta','fasta')\n",
    "\n",
    "TLR4EC = SeqIO.read('TLR4EC.fasta','fasta')\n",
    "\n",
    "TLR6EC = SeqIO.read('TLR6EC.fasta','fasta')\n",
    "\n"
   ]
  },
  {
   "cell_type": "markdown",
   "metadata": {},
   "source": [
    "#### Performing pairwise sequence alignments: TLR 2 and TLR 4 vs TLR 2 and TLR 6 "
   ]
  },
  {
   "cell_type": "code",
   "execution_count": 5,
   "metadata": {},
   "outputs": [
    {
     "name": "stdout",
     "output_type": "stream",
     "text": [
      "ESSNQASLS---CDR-----NGI---CKGSSGS--LNS---IPSG--L---TEAVKS-LDLSN-N--RIT----YISN--SD---LQRCVNLQALV-LTSNG---IN-TIEEDSFSSLG---SLE-HLDLSYNY-LSN-LSSSWFK---PLS--SLTF-LN-----L--LGNPY-KTLG---ET---SL--FS---HLTK-LQI--LR-VG--NMDTFTK-IQR--KD----FAG--LTF-LEE-LEIDASDLQSYEPKSL-KSIQNVSHLI----L---HMKQHI--LL-LEIFVDVTSSVECLELRDTDLDTFHFSELSTGETNSL----I-----K-----KF-TF-RNVKIT--DESLFQ-VMKLLNQ--IS-GL--LE---L---EFDDCTL-NGV-GN---FRASDNDRVIDPGKV---ET-L---TIR---RLHIPRF-YLF-Y--D----LST---LY---S---L---T-ERVKRITVEN--SKV--F----L--VP-CLLS---QH---LKSLEY--LD--L---SENLMVEEYLK--NSAC--E-DAW-PSLQT--LI-L-RQNH-LASLE-KTGE--------TLLT-LKN-LTNIDI-SK-N-----SFHSMP-----ETCQWP-EKMKY-L-----NL---S--ST-----R--IH----SV-T-------GCIPKT---LEI--LD-VSNNNL----NLFSL---N-LPQLK----ELYISRNKLMT-LPDA-S---L--L-PM-----L--L-VLKI--SR-NAITT-F-S------KE-----Q-LD-SF--H--TL-KTL--E--------AGG--N---N-FI-CS-CEFL--SFT-QE----Q-QALAKVLIDWPANYL-------CDS--PSHVRGQQVQD-----VRLSVSECHR---T-----\n",
      "|       |   |       | |   |        ||    ||    |   |   |  ||||  |  |      | |   |    ||  |    |  | |     |  || ||     |   ||  |  ||    |   |         |    ||   |      |  |     | |    ||   ||  |    || | |    |  |   |       ||   |     |    ||  | | |     || |    |  | ||  |  |    |   |  |    || |        |     |   ||     | |     |      |     |     |  |  ||      | ||   |||      |  ||  ||   |   ||      |   ||   |         |  |    |  |   ||    ||      ||  |  |    |     |    |   |   | ||||        |    |    |  |  |      |    || |    |   |   | |       |  | |   | |   |||    |  | | |  | |   | |         |  | ||  |   |  |  |     |  |       |  |   |     |     ||   |  |      |  |     |  |       | |      |    |  |    |    |  |    | ||       ||   || | | | |  |   |  | |      |  | ||    |  |     | |      |      | || |   |  |  |    |        |    |   | |  |  ||    ||  |     | |     |       |       |    ||        |     | |  |       |     \n",
      "E-------SWEPC--VEVVPN-ITYQC------MELN-FYKIP--DNLPFST---K-NLDLS-FNPLR--HLGSY-S-FFS-FPELQ--V----L-DL-S--RCEI-QTI-ED-----GAYQSL-SH--LS---TL--IL------TGNP--IQSL--AL-GAFSGLSSL----QK-L-VAVETNLASLENF-PIGHL-KTL--KEL-NV-AHN------LIQ-SFK-LPEYF--SNLT-NL-EHL-----DL-S----S-NK-IQ--S--IYCTDLRVLH--Q--MPLLNL--------S-----L---DL-----S-L-----N--PMNFIQPGAFKEIRLHK-LT-LRN----NFD-SL--NVMK----TCI-QGLAGLEVHRLVLGEF-----RN--EGNLEKF---------D--K-SALE-GLCNLTI-EEFRL-----AYL-DYYLDDIIDL--FNCL-TNVSSFSLVSVTIERVK------DFS--YNFGWQHLELV-NC---KFGQ-FPTLK-L--KSL-KRLTFTS-N-------KGGN-A-FSEVD--LPSL--EFL-DLSR-N-GL-S--FK-G-CCSQSDFGT--TSLK-YL---D-LS-FNGVITMS--S--NFLGLE--Q--LE----HLDFQHSNLKQMSEFS-VFLSLRNLI-YLDIS-HTHTRVAFNG-I---FNGL--SSL-EV----LKMAGN--S-FQENFLP---DIFTEL---RN-L-TFL-D-LSQCQLEQLSP-TAFNSLSSLQVL--NMS-HN----NFFSLDTFPYK-CLNSLQVLDYS-LNHIMT-SK--KQELQHFPSSLA--FLNLTQNDF-AC-TCE--HQSF-LQ-WIKDQRQ-----L-------LVEVERMEC--ATPS--------DKQGMPV-L--S----LNITCQMNK\n",
      "  Score=250\n",
      "\n"
     ]
    }
   ],
   "source": [
    "alignments = pairwise2.align.globalxx(TLR2EC.seq, TLR4EC.seq)\n",
    "#The pairwise alignment method is called by pairwise2.align and the scoring parameters are stored in globalxx. \n",
    "#The input within the alignment function is the protein sequences in our two fasta files of interest.\n",
    "#All the different alignment functions are contained in the object 'align'.\n",
    "print(format_alignment(*alignments[0]))\n"
   ]
  },
  {
   "cell_type": "code",
   "execution_count": 6,
   "metadata": {},
   "outputs": [
    {
     "name": "stdout",
     "output_type": "stream",
     "text": [
      "ESSNQ--ASLSC-DRNGICKGSS--GSLNSI--PSG--L---TEAVKS-LDL-SN-NRITYISNSDLQRCVNLQA-L-VLTSNGINTIEED-SFSSLGSLEHLD--LSYNY-LS-N---LSS---SW-FKPLSSLTFLNL--LGNP-YKTLGETS-LFSHLTK--LQ-ILR-----VGNMDT-FTKIQRK--DFAGLT-FLEELEI-D--ASDLQSYEP--KS----LKSIQ-NVSH-LI-LH--MK-QHI-L-LLE-IFVDVTS-----SVEC--LELRDTDLDTFHFS------ELSTG-ETN-SL-IK---KFTFRN---VKI---TDESLF--QVMKLLNQISG---L--LE-LEFDDCTLNGVG---NFRASDNDR---V-IDPGKV---ETLTIRR---L------HIP--------R-F---------YLF--YD-L----S------TLYS---L---T-ERVKR-ITVENSK-VFLVPCLL-SQHLKS--LEYLDL---SE-NL-MVEEY-LKN--SACED----------AWPSLQTLI---LR---QNHLA----SL--EKTGE--TL--L-TL---KN-L---------TNI-D-----I---SK-NSFH--SMP----ET-CQ-WP-EKMKY----LNLSS---TRIH-SVTG--CIPKTLE---ILD-VSNNNLN-LF-SLNLPQLKELYI-SRN--K----LMT--LPD-----A--SL--LPML-------L-VLKISR---N------AITT-F--SKE-QLD---SFHTL-KTLEAGGN-N-FI-CS-CEFLS--FT-----Q---EQQALAKVLID--WPAN--YL-CDS-P-SHV-RGQQVQDVRLSV-------SE--CHR--T-\n",
      "   |   |     |     |  |  | |  |  |    |   |   |  ||  |  |   ||            | | |  |        | ||  | | | |   |     || |   |     |  ||      | |   |    |  |     | ||     || |       |      |    |   |   |  |       |  |  |    |  |     | | | |    |  |   || |   | ||  |           |     | |   ||            |     ||  || |    | |      |     |  |||  ||    | ||    |  |  |     | |      |    | |    | |   |    | ||  |   |      ||         | |         ||   |  |    |      | ||   |   | |     ||  |   ||     | ||      | |      || |  |     |    |   |          | ||  |     |    ||       |   ||     ||  | ||   || |         |   |     |   |  ||    |      |  |  |  |        |||||   |    ||    |    |    |   |    |  |  | |    |   | |    |    |    |       |  ||  ||         | || |     |      |    |  |   |     |     |   | |  | |  |  || |   |      |   |      ||    ||    |  ||  | |   ||        |        ||  |    | \n",
      "---N-EFA----VD-----K--SKRG-L--IHVP--KDLPLKT---K-VLD-MS-QN---YI------------AELQV--S--------DMSF--L-S-E-L-TVL----RLSHNRIQL--LDLS-VFK------F-N-QDL---EY--L----DL-SH---NQLQKI--SCHPIV-----SF----R-HLD---L-SF------NDFKA--L----PICK-EFGNL-S-QLN---FL-GL-SAMKLQ--KLDLL-PI------AHLHLS---YIL-L---DL------RNYYIKE----NET-ESLQI-LNAK-T---LHLV--FHPT--SLFAIQV----N-IS-VNTLGCL-QL-----T-N---IKLN----D-D-NCQVFI---K-FLSE-LT--RGSTLLNFTLNHI-ETTWKCLVRVFQFLWPKPVEYL-NIY-NLTIIESIREEDFT-YSKTTLKALTIE----HIT--N--QVF-----LFSQ----TAL-Y---TVFSEMN-IM----ML--TIS---DTPFIHMLCPHA-PS--T--FKFL-NFTQN---VFTDS-IFEK---CSTLVKLETLILQKNGLKDLFKVGLMT--KDMPSLEILDVS-WNS--LES--GRHKE-NC-TW-VE----SIVVLNLSSNMLT---DSV--FRC----L-PPRI--KV----L-DL-HS-N----K---IKS--VPKQVVKL--EAL--QELNVAFNSLTDLP--GCGSFSSLSVL-I--IDHNSVSHPSA---DFFQS--CQ--KMRS----IK---A-G-DNPF-QC-TCE-L-REF-VKNIDQVSSE------VL--EGWP--DSY-KCD-YPES--YRG--------S-PLKDFHMSELSC--NITL\n",
      "  Score=237\n",
      "\n"
     ]
    }
   ],
   "source": [
    "alignments = pairwise2.align.globalxx(TLR2EC.seq, TLR6EC.seq)\n",
    "\n",
    "print(format_alignment(*alignments[0]))\n"
   ]
  },
  {
   "cell_type": "markdown",
   "metadata": {},
   "source": [
    "#### Reading in the fasta files for the transmembrane domain of TLR 2, TLR 4 and TLR 6.\n",
    "\n",
    "This region contains hydrophobic regions of the 3 TLRs that is embedded in the cells membrane\n"
   ]
  },
  {
   "cell_type": "code",
   "execution_count": 7,
   "metadata": {},
   "outputs": [],
   "source": [
    "TLR2TM = SeqIO.read('TLR2TM.fasta','fasta')\n",
    "\n",
    "TLR4TM = SeqIO.read('TLR4TM.fasta','fasta')\n",
    "\n",
    "TLR6TM = SeqIO.read('TLR6TM.fasta','fasta')\n",
    "#SeqIO.read reads in the fasta file. As inputs, it takes the name of the file and the format seperated by a comma"
   ]
  },
  {
   "cell_type": "markdown",
   "metadata": {},
   "source": [
    "#### Performing pairwise sequence alignments: TLR 2 and TLR 4 vs TLR 2 and TLR 6 "
   ]
  },
  {
   "cell_type": "code",
   "execution_count": 8,
   "metadata": {},
   "outputs": [
    {
     "name": "stdout",
     "output_type": "stream",
     "text": [
      "AL----VSGMCCALFLLI-L--LTGV------LC--\n",
      "      ||           |  |  |      |   \n",
      "--TIIGVS----------VLSVL--VVSVVAVL-VY\n",
      "  Score=6\n",
      "\n"
     ]
    }
   ],
   "source": [
    "alignments = pairwise2.align.globalxx(TLR2TM.seq, TLR4TM.seq)\n",
    "\n",
    "print(format_alignment(*alignments[0]))"
   ]
  },
  {
   "cell_type": "code",
   "execution_count": 9,
   "metadata": {},
   "outputs": [
    {
     "name": "stdout",
     "output_type": "stream",
     "text": [
      "AL-VS--GMCCALFLLI--L-L--TGV--LC-\n",
      " | |   |   |       | |  | |  || \n",
      "-LIV-TIG---A-----TMLVLAVT-VTSLCI\n",
      "  Score=10\n",
      "\n"
     ]
    }
   ],
   "source": [
    "alignments = pairwise2.align.globalxx(TLR2TM.seq, TLR6TM.seq)\n",
    "\n",
    "print(format_alignment(*alignments[0]))"
   ]
  },
  {
   "cell_type": "markdown",
   "metadata": {},
   "source": [
    "#### Reading in the fasta files for the intracellular domains of TLR 2, TLR 4 and TLR 6\n",
    "This is the region present inside the cell which is responsible for the activation of the downstream signalling cascade after receptor activation"
   ]
  },
  {
   "cell_type": "code",
   "execution_count": 10,
   "metadata": {},
   "outputs": [],
   "source": [
    "TLR2CY = SeqIO.read('TLR2CY.fasta','fasta')\n",
    "\n",
    "TLR4CY = SeqIO.read('TLR4CY.fasta','fasta')\n",
    "\n",
    "TLR6CY = SeqIO.read('TLR6CY.fasta','fasta')\n"
   ]
  },
  {
   "cell_type": "markdown",
   "metadata": {},
   "source": [
    "#### Performing pairwise sequence alignments: TLR 2 and TLR 4 vs TLR 2 and TLR 6 "
   ]
  },
  {
   "cell_type": "code",
   "execution_count": 11,
   "metadata": {},
   "outputs": [
    {
     "name": "stdout",
     "output_type": "stream",
     "text": [
      "HR-F--HGLWYMKMMWAWLQ-AKRKPR---KAPS--R--NICYDAFVS-YS---ERDAYWVE-N-LMVQE--LENFN---PPFK-LCLHK-RDFIPGKWI--ID--NIIDSI-E---KSH-KTVF-VL--SEN--FVK--SE-WCK---YELD------F-SHF-RLFDENNDAA-ILILLEP-IE---K--KAIP----Q-----RFCKL--RKIMNTKTYLEWPMDEAQRE----G---FWVN--LRA-AI----KS-------------------\n",
      "   |  | |     |   |  |        |     |  || |||||  ||   | |  ||  | | |    ||      |||  ||||  ||||||     |   | |  | |   ||  | |  |   |    |    |  ||    ||        | |   |        | | |     |    |  |       |     |   |  |   |  |||||       |    |   ||    ||  |     ||                   \n",
      "--KFYFH-L-----M---L-LA-----GCIK---YGRGENI-YDAFV-IYSSQDE-D--WV-RNEL-V--KNLE---EGVPPF-QLCLH-YRDFIPG---VAI-AAN-I--IHEGFHKS-RK-V-IV-VVS--QHF--IQS-RWC-IFEYE--IAQTWQFLS--SR--------AGI-I----FI-VLQKVEK---TLLRQQVELYR---LLSR---N--TYLEW-------EDSVLGRHIFW--RRLR-KA-LLDGKSWNPEGTVGTGCNWQEATSI\n",
      "  Score=84\n",
      "\n"
     ]
    }
   ],
   "source": [
    "alignments = pairwise2.align.globalxx(TLR2CY.seq, TLR4CY.seq)\n",
    "\n",
    "print(format_alignment(*alignments[0]))"
   ]
  },
  {
   "cell_type": "code",
   "execution_count": 12,
   "metadata": {},
   "outputs": [
    {
     "name": "stdout",
     "output_type": "stream",
     "text": [
      "HRFHG-L---WYMKM--MWA---WL-QAK-RKPRK-APSRNICYD------------AFV-SYSER-D-AYWV--ENLMVQE--LENFNPPFKL-----CLHK-RD-FI-PGKWI-ID--NIIDS--IEKSH-KTV--FVLSE-NFVK-SEWCK-YELD-FS-HFR--LFD-E--NNDAA-ILILLEPIEKKAIPQRFC-----K---LRKI--MNTK--TYLE-WPMD-EAQ---REG-FWV-NL-RAAI---K-----------S\n",
      "      |   ||     |     |  |   |  |  |  |||               ||  ||||  | | ||  | | |    ||      |      |||  |  |  |||   |   |||    ||||  |    ||||  |||  ||||  |||  |  |    ||  |  ||    |||||||     |||        |   | |   | |   |||  ||   |     | | ||  |  |||    |           |\n",
      "-----YLDLPWY---LRM--VCQW-TQ--TR--R-RA--RNI---PLEELQRNLQFHAF-ISYSE-HDSA-WVKSE-L-V--PYLE------K-EDIQICLH-ER-NF-VPGK--SI-VENII--NCIEKS-YK--SIFVLS-PNFV-QSEWC-HYEL-YF-AH--HNLF-HEGSNN---LILILLEP-----IPQ---NSIPNKYHKL-K-ALM-T-QRTYL-QWP--KE--KSKR-GLFW-AN-IRAA-FNMKLTLVTENNDVKS\n",
      "  Score=97\n",
      "\n"
     ]
    }
   ],
   "source": [
    "alignments = pairwise2.align.globalxx(TLR2CY.seq, TLR6CY.seq)\n",
    "\n",
    "print(format_alignment(*alignments[0]))"
   ]
  },
  {
   "cell_type": "markdown",
   "metadata": {},
   "source": [
    "### Results"
   ]
  },
  {
   "cell_type": "markdown",
   "metadata": {},
   "source": [
    "#### Extracellular domain"
   ]
  },
  {
   "cell_type": "markdown",
   "metadata": {},
   "source": [
    "##### The score for an alignment between TLR2 and TLR6's Extracellular domain is 250"
   ]
  },
  {
   "cell_type": "markdown",
   "metadata": {},
   "source": [
    "##### The score for an alignment between TLR2 and TLR6's Extracellular domain is 237"
   ]
  },
  {
   "cell_type": "markdown",
   "metadata": {},
   "source": [
    "#### Transmembrane domain"
   ]
  },
  {
   "cell_type": "markdown",
   "metadata": {},
   "source": [
    "##### The score for an alignment between TLR2 and TLR4's Transmembrane domain is 6\n"
   ]
  },
  {
   "cell_type": "markdown",
   "metadata": {},
   "source": [
    "##### The score for an alignment between TLR2 and TLR6's Transmembrane domain is 10\n"
   ]
  },
  {
   "cell_type": "markdown",
   "metadata": {},
   "source": [
    "#### Cytoplasmic domain"
   ]
  },
  {
   "cell_type": "markdown",
   "metadata": {},
   "source": [
    "##### The score for an alignment between TLR2 and TLR4's Cytoplasmic domain is 84"
   ]
  },
  {
   "cell_type": "markdown",
   "metadata": {},
   "source": [
    "##### The score for an alignment between TLR2 and TLR6's Cytoplasmic domain is 97"
   ]
  },
  {
   "cell_type": "markdown",
   "metadata": {},
   "source": [
    "#### Vizually representing the data"
   ]
  },
  {
   "cell_type": "code",
   "execution_count": 19,
   "metadata": {
    "scrolled": true
   },
   "outputs": [
    {
     "data": {
      "image/png": "[encoded data removed]",
      "text/plain": [
       "<Figure size 432x288 with 1 Axes>"
      ]
     },
     "metadata": {
      "needs_background": "light"
     },
     "output_type": "display_data"
    }
   ],
   "source": [
    "x = np.arange(3) \n",
    "TLR4 = [250, 6, 83] \n",
    "TLR6 = [237, 10, 97 ] \n",
    "#creating a numpy array for our pairwise sequence alignment scores  \n",
    "\n",
    "width = 0.3\n",
    "#determing width of the bars\n",
    "\n",
    "plot.bar(x-0.3, TLR4, width, color='blue') \n",
    "plot.bar(x, TLR6, width, color='red') \n",
    "#Plotting the alignment scores and color coding the two groups\n",
    "\n",
    "plot.xticks(x, ['Extracellular', 'Transmembrane', 'Cytoplasmic']) \n",
    "plot.xlabel(\"Domain\") \n",
    "plot.ylabel(\"Alignment Score with TLR 2\") \n",
    "plot.legend([ \"TLR4\", \"TLR6\"]) \n",
    "#Creating plot legend and naming axis\n",
    "plot.show() \n",
    "#Command to vizualize the plot\n"
   ]
  },
  {
   "cell_type": "markdown",
   "metadata": {},
   "source": [
    "### Conclusion\n",
    "\n",
    "#### Sequence allignment performed for TLR2 vs TLR4 for the extracellular domain has a higher score value as compared to the sequence alignment performed for TLR2 vs TLR6. This concludes that TLR2 extracellar gene sequence that is responsible for recognizing and binding ligands is more structurally and functionally similar to the TLR4 gene sequence as compared to the TLR6 gene sequence even though TLR2 and TLR6 dimerize to activate downstream signalling. This implies that TLR 2 and 4 show a greater overlap in the structural motifs their ligand binding domains recognize.\n",
    "\n",
    "#### Similarly, as hypothesized, the TLR2 gene sequences that are responsible for dimerization and downstream signalling, the hydrophobic transmembrane and intracellular domains, are more similar to the TLR6 gene sequences as compared to the TLR4 gene sequence even though TLR 4 most recently evolved from TLR 2. This implies that TLR2 and 6 share a more similar mechanism of downstream signal activation as compared to TLR2 and TLR4.\n",
    "\n",
    "#### In conclusion, our hypothesis was true ie we fail to reject our hypothesis\n"
   ]
  },
  {
   "cell_type": "markdown",
   "metadata": {},
   "source": [
    "### References and Sources"
   ]
  },
  {
   "cell_type": "markdown",
   "metadata": {},
   "source": [
    "https://www.uniprot.org/uniprot/O60603\n",
    "https://www.uniprot.org/uniprot/O00206\n",
    "https://www.uniprot.org/uniprot/Q9Y2C9\n",
    "https://www.rcsb.org/structure/6NIG\n",
    "https://www.rcsb.org/structure/3FXI\n",
    "https://www.frontiersin.org/articles/10.3389/fimmu.2014.00316/full"
   ]
  }
 ],
 "metadata": {
  "kernelspec": {
   "display_name": "Python 3",
   "language": "python",
   "name": "python3"
  },
  "language_info": {
   "codemirror_mode": {
    "name": "ipython",
    "version": 3
   },
   "file_extension": ".py",
   "mimetype": "text/x-python",
   "name": "python",
   "nbconvert_exporter": "python",
   "pygments_lexer": "ipython3",
   "version": "3.7.3"
  }
 },
 "nbformat": 4,
 "nbformat_minor": 2
}
